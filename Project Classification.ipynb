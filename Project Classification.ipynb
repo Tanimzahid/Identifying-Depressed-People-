{
 "cells": [
  {
   "cell_type": "code",
   "execution_count": 165,
   "metadata": {
    "scrolled": true
   },
   "outputs": [
    {
     "data": {
      "text/plain": [
       "(70, 10)"
      ]
     },
     "execution_count": 165,
     "metadata": {},
     "output_type": "execute_result"
    }
   ],
   "source": [
    "import pandas as pd\n",
    "import numpy as np\n",
    "import math\n",
    "import operator\n",
    "from collections import Counter\n",
    "from matplotlib import pyplot as plt\n",
    "from sklearn.neighbors import KNeighborsClassifier\n",
    "from sklearn.metrics import accuracy_score  \n",
    "from sklearn.metrics import confusion_matrix \n",
    "\n",
    "my_dataset_new = pd.read_csv(\"My_Dataset_Update.csv\")\n",
    "my_dataset=my_dataset_new.copy()\n",
    "\n",
    "my_dataset['Daily spent time in social media (hour)'].unique()\n",
    "my_dataset['Daily spent time in social media (hour)']=my_dataset['Daily spent time in social media (hour)'].replace({'5/2/2019 0:00':''})\n",
    "\n",
    "                                              \n",
    "\n",
    "                                                 \n",
    "my_dataset['How many people do you follow on social media?'].unique()\n",
    "my_dataset['How many people do you follow on social media?']=my_dataset['How many people do you follow on social media?'].replace({'very few': '5', \n",
    "                                                                                             'Around 100':'100','100+': '100','few':'5','15+':'15','around 350':'350','2019-06-05 00:00:00':'0',\n",
    "                                                                                                                                                 '2019-03-02 00:00:00':'0','2019-10-05 00:00:00':'0'\n",
    "                                                                                                                                                 \n",
    "                                                 \n",
    "                                                 })\n",
    "my_dataset['Typically your days are started at:'].unique()\n",
    "my_dataset['Typically your days are started at:']=my_dataset['Typically your days are started at:'].replace({'LR': '11:00:00'\n",
    "                                                                                             \n",
    "                                                 \n",
    "                                                 })\n",
    "\n",
    "my_dataset=my_dataset.dropna()\n",
    "\n",
    "my_dataset['Do you feel yourself depressed in a hostile situation?'] = my_dataset['Do you feel yourself depressed in a hostile situation?'].astype('category')\n",
    "my_dataset['Do you feel yourself depressed in a hostile situation?'] = pd.factorize(my_dataset['Do you feel yourself depressed in a hostile situation?'])[0] + 1\n",
    "\n",
    "my_dataset['Daily spent time in social media (hour)'] = pd.factorize(my_dataset['Daily spent time in social media (hour)'])[0] + 1\n",
    "my_dataset['Do you feel low seeing other people\\'s achievement on social media'] = pd.factorize(my_dataset['Do you feel low seeing other people\\'s achievement on social media'])[0] + 1\n",
    "my_dataset['Are you happy with current situation?'] = pd.factorize(my_dataset['Are you happy with current situation?'])[0] + 1\n",
    "my_dataset['Do you feel confident when you start any project?'] = pd.factorize(my_dataset['Do you feel confident when you start any project?'])[0] + 1\n",
    "my_dataset['Concerned about life (a) or goes too easy on life (b).'] = pd.factorize(my_dataset['Concerned about life (a) or goes too easy on life (b).'])[0] + 1\n",
    "\n",
    "my_dataset.shape\n",
    "#my_dataset=my_dataset.set_index('Daily spent time in social media (hour)')\n"
   ]
  },
  {
   "cell_type": "code",
   "execution_count": 166,
   "metadata": {},
   "outputs": [],
   "source": [
    "for i in range(len(my_dataset)):\n",
    "    cgpa=float(my_dataset['CGPA'][i])\n",
    "    if cgpa<= 4.0 and cgpa>= 3.5:\n",
    "        my_dataset.loc[i,'CGPA'] = \"3.5 - 4.0\"\n",
    "    elif cgpa < 3.5 and cgpa >= 3.0:\n",
    "        my_dataset.loc[i,'CGPA']= \"3.0 - 3.49\"\n",
    "    elif cgpa < 3.0 and cgpa >= 2.5:\n",
    "        my_dataset.loc[i,'CGPA'] = \"2.5 - 2.99\"\n",
    "    else:\n",
    "        my_dataset.loc[i,'CGPA']= \"below 2.5\"\n",
    " \n"
   ]
  },
  {
   "cell_type": "code",
   "execution_count": 167,
   "metadata": {},
   "outputs": [],
   "source": [
    "for i in range(len(my_dataset)):\n",
    "    follower=int(my_dataset['How many people do you follow on social media?'][i])\n",
    "    if follower <200:\n",
    "         my_dataset.loc[i,'How many people do you follow on social media?']= \"Less\"\n",
    "    else: \n",
    "         my_dataset.loc[i,'How many people do you follow on social media?']= \"More\" "
   ]
  },
  {
   "cell_type": "code",
   "execution_count": 168,
   "metadata": {},
   "outputs": [],
   "source": [
    "my_dataset['How many people do you follow on social media?'] = pd.factorize(my_dataset['How many people do you follow on social media?'])[0] + 1\n",
    "my_dataset['CGPA'] = pd.factorize(my_dataset['CGPA'])[0] + 1\n"
   ]
  },
  {
   "cell_type": "code",
   "execution_count": 263,
   "metadata": {},
   "outputs": [
    {
     "data": {
      "text/html": [
       "<div>\n",
       "<style scoped>\n",
       "    .dataframe tbody tr th:only-of-type {\n",
       "        vertical-align: middle;\n",
       "    }\n",
       "\n",
       "    .dataframe tbody tr th {\n",
       "        vertical-align: top;\n",
       "    }\n",
       "\n",
       "    .dataframe thead th {\n",
       "        text-align: right;\n",
       "    }\n",
       "</style>\n",
       "<table border=\"1\" class=\"dataframe\">\n",
       "  <thead>\n",
       "    <tr style=\"text-align: right;\">\n",
       "      <th></th>\n",
       "      <th>id</th>\n",
       "      <th>Typically your days are started at:</th>\n",
       "      <th>CGPA</th>\n",
       "      <th>Daily spent time in social media (hour)</th>\n",
       "      <th>Are you happy with current situation?</th>\n",
       "      <th>Do you feel low seeing other people's achievement on social media</th>\n",
       "      <th>How many people do you follow on social media?</th>\n",
       "      <th>Concerned about life (a) or goes too easy on life (b).</th>\n",
       "      <th>Do you feel yourself depressed in a hostile situation?</th>\n",
       "      <th>Do you feel confident when you start any project?</th>\n",
       "    </tr>\n",
       "  </thead>\n",
       "  <tbody>\n",
       "    <tr>\n",
       "      <th>0</th>\n",
       "      <td>151340982</td>\n",
       "      <td>11:00:00</td>\n",
       "      <td>1</td>\n",
       "      <td>1</td>\n",
       "      <td>1</td>\n",
       "      <td>1</td>\n",
       "      <td>1</td>\n",
       "      <td>1</td>\n",
       "      <td>1</td>\n",
       "      <td>1</td>\n",
       "    </tr>\n",
       "    <tr>\n",
       "      <th>1</th>\n",
       "      <td>151340985</td>\n",
       "      <td>11:00:00</td>\n",
       "      <td>1</td>\n",
       "      <td>2</td>\n",
       "      <td>2</td>\n",
       "      <td>2</td>\n",
       "      <td>1</td>\n",
       "      <td>1</td>\n",
       "      <td>2</td>\n",
       "      <td>1</td>\n",
       "    </tr>\n",
       "    <tr>\n",
       "      <th>2</th>\n",
       "      <td>151340990</td>\n",
       "      <td>11:00:00</td>\n",
       "      <td>1</td>\n",
       "      <td>1</td>\n",
       "      <td>2</td>\n",
       "      <td>1</td>\n",
       "      <td>1</td>\n",
       "      <td>2</td>\n",
       "      <td>1</td>\n",
       "      <td>2</td>\n",
       "    </tr>\n",
       "    <tr>\n",
       "      <th>3</th>\n",
       "      <td>151340994</td>\n",
       "      <td>11:00:00</td>\n",
       "      <td>1</td>\n",
       "      <td>3</td>\n",
       "      <td>3</td>\n",
       "      <td>2</td>\n",
       "      <td>1</td>\n",
       "      <td>1</td>\n",
       "      <td>2</td>\n",
       "      <td>2</td>\n",
       "    </tr>\n",
       "    <tr>\n",
       "      <th>4</th>\n",
       "      <td>151340894</td>\n",
       "      <td>08:00:00</td>\n",
       "      <td>2</td>\n",
       "      <td>1</td>\n",
       "      <td>2</td>\n",
       "      <td>1</td>\n",
       "      <td>1</td>\n",
       "      <td>2</td>\n",
       "      <td>3</td>\n",
       "      <td>2</td>\n",
       "    </tr>\n",
       "  </tbody>\n",
       "</table>\n",
       "</div>"
      ],
      "text/plain": [
       "          id Typically your days are started at:  CGPA  \\\n",
       "0  151340982                            11:00:00     1   \n",
       "1  151340985                            11:00:00     1   \n",
       "2  151340990                            11:00:00     1   \n",
       "3  151340994                            11:00:00     1   \n",
       "4  151340894                            08:00:00     2   \n",
       "\n",
       "   Daily spent time in social media (hour)  \\\n",
       "0                                        1   \n",
       "1                                        2   \n",
       "2                                        1   \n",
       "3                                        3   \n",
       "4                                        1   \n",
       "\n",
       "   Are you happy with current situation?  \\\n",
       "0                                      1   \n",
       "1                                      2   \n",
       "2                                      2   \n",
       "3                                      3   \n",
       "4                                      2   \n",
       "\n",
       "   Do you feel low seeing other people's achievement on social media  \\\n",
       "0                                                  1                   \n",
       "1                                                  2                   \n",
       "2                                                  1                   \n",
       "3                                                  2                   \n",
       "4                                                  1                   \n",
       "\n",
       "   How many people do you follow on social media?  \\\n",
       "0                                               1   \n",
       "1                                               1   \n",
       "2                                               1   \n",
       "3                                               1   \n",
       "4                                               1   \n",
       "\n",
       "   Concerned about life (a) or goes too easy on life (b).  \\\n",
       "0                                                  1        \n",
       "1                                                  1        \n",
       "2                                                  2        \n",
       "3                                                  1        \n",
       "4                                                  2        \n",
       "\n",
       "   Do you feel yourself depressed in a hostile situation?  \\\n",
       "0                                                  1        \n",
       "1                                                  2        \n",
       "2                                                  1        \n",
       "3                                                  2        \n",
       "4                                                  3        \n",
       "\n",
       "   Do you feel confident when you start any project?  \n",
       "0                                                  1  \n",
       "1                                                  1  \n",
       "2                                                  2  \n",
       "3                                                  2  \n",
       "4                                                  2  "
      ]
     },
     "execution_count": 263,
     "metadata": {},
     "output_type": "execute_result"
    }
   ],
   "source": [
    "my_dataset.head()"
   ]
  },
  {
   "cell_type": "code",
   "execution_count": 268,
   "metadata": {},
   "outputs": [
    {
     "name": "stdout",
     "output_type": "stream",
     "text": [
      "Accuracy with 5 neighbours:  61.904761904761905\n",
      "[[13  0  0]\n",
      " [ 3  0  0]\n",
      " [ 5  0  0]]\n"
     ]
    },
    {
     "data": {
      "image/png": "[encoded data removed]",
      "text/plain": [
       "<Figure size 432x288 with 1 Axes>"
      ]
     },
     "metadata": {
      "needs_background": "light"
     },
     "output_type": "display_data"
    }
   ],
   "source": [
    "from sklearn.model_selection import train_test_split\n",
    "from sklearn.linear_model import LinearRegression\n",
    "\n",
    "\n",
    "\n",
    "X = my_dataset[['How many people do you follow on social media?','Concerned about life (a) or goes too easy on life (b).']]\n",
    "Y = my_dataset['Do you feel yourself depressed in a hostile situation?']\n",
    "#plt.scatter(X,Y)\n",
    "#plt.show()\n",
    "\n",
    "X_train,X_test,Y_train,Y_test = train_test_split(X,Y,test_size=0.3,random_state=1)\n",
    "#print(len(X_test))\n",
    "clf = KNeighborsClassifier(n_neighbors=5)\n",
    "#clf = LinearRegression()\n",
    "\n",
    "clf.fit(X_train, Y_train.astype(int))\n",
    "yPred=clf.predict(X_test)\n",
    "acc=accuracy_score(Y_test.astype(int), yPred.astype(int))*100\n",
    "print('Accuracy with 5 neighbours: ',acc)\n",
    "#plt.scatter(Y_test,yPred)\n",
    "#plt.show()\n",
    "\n",
    "#plt.boxplot(Y_test)\n",
    "#plt.show()\n",
    "\n",
    "##################\n",
    "cm = confusion_matrix(Y_test.astype(int), yPred.astype(int))\n",
    "print(cm)\n",
    "fig = plt.figure()\n",
    "ax = fig.add_subplot(111)\n",
    "cax = ax.matshow(cm)\n",
    "plt.title(\"k=5\")\n",
    "plt.xlabel('Predicted')\n",
    "plt.ylabel('True')\n",
    "plt.show() \n"
   ]
  },
  {
   "cell_type": "code",
   "execution_count": 262,
   "metadata": {},
   "outputs": [
    {
     "name": "stdout",
     "output_type": "stream",
     "text": [
      "Accuracy with 6 neighbours:  54.285714285714285\n",
      "[[18  0  0  0]\n",
      " [ 6  1  0  0]\n",
      " [ 9  0  0  0]\n",
      " [ 1  0  0  0]]\n"
     ]
    },
    {
     "data": {
      "image/png": "[encoded data removed]",
      "text/plain": [
       "<Figure size 432x288 with 1 Axes>"
      ]
     },
     "metadata": {
      "needs_background": "light"
     },
     "output_type": "display_data"
    }
   ],
   "source": [
    "X = my_dataset[['CGPA','Do you feel confident when you start any project?']]\n",
    "Y = my_dataset['Do you feel low seeing other people\\'s achievement on social media']\n",
    "#plt.scatter(X,Y)\n",
    "#plt.show()\n",
    "\n",
    "X_train,X_test,Y_train,Y_test = train_test_split(X,Y,test_size=0.5,random_state=1)\n",
    "#print(len(X_test))\n",
    "clf = KNeighborsClassifier(n_neighbors=6)\n",
    "clf.fit(X_train, Y_train.astype(int))\n",
    "yPred=clf.predict(X_test)\n",
    "acc=accuracy_score(Y_test.astype(int), yPred.astype(int))*100\n",
    "print('Accuracy with 6 neighbours: ',acc)\n",
    "cm = confusion_matrix(Y_test.astype(int), yPred.astype(int))\n",
    "print(cm)\n",
    "fig = plt.figure()\n",
    "ax = fig.add_subplot(111)\n",
    "cax = ax.matshow(cm)\n",
    "plt.title(\"k=6\")\n",
    "plt.xlabel('Predicted')\n",
    "plt.ylabel('True')\n",
    "plt.show()  \n",
    "\n"
   ]
  },
  {
   "cell_type": "code",
   "execution_count": null,
   "metadata": {},
   "outputs": [],
   "source": [
    "my_dataset"
   ]
  },
  {
   "cell_type": "code",
   "execution_count": null,
   "metadata": {},
   "outputs": [],
   "source": []
  }
 ],
 "metadata": {
  "kernelspec": {
   "display_name": "Python 3",
   "language": "python",
   "name": "python3"
  },
  "language_info": {
   "codemirror_mode": {
    "name": "ipython",
    "version": 3
   },
   "file_extension": ".py",
   "mimetype": "text/x-python",
   "name": "python",
   "nbconvert_exporter": "python",
   "pygments_lexer": "ipython3",
   "version": "3.6.7"
  }
 },
 "nbformat": 4,
 "nbformat_minor": 2
}
